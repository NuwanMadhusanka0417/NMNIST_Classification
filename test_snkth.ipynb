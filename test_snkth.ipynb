{
 "cells": [
  {
   "cell_type": "code",
   "id": "initial_id",
   "metadata": {
    "collapsed": true,
    "ExecuteTime": {
     "end_time": "2025-07-26T01:54:44.365238Z",
     "start_time": "2025-07-26T01:54:44.209203Z"
    }
   },
   "source": [
    "import os\n",
    "from os.path import join\n",
    "from scipy.io import loadmat\n",
    "from glob import glob\n",
    "\n",
    "def load_snkth(root: str = \"data/SNKTH\"):\n",
    "    \"\"\"\n",
    "    Load SNKTH dataset: 6-class event dataset with .mat files per sample.\n",
    "    Assumes each class is a subfolder in `root`, with .mat files inside.\n",
    "\n",
    "    Returns:\n",
    "        events_list: list of dicts with keys ['x', 'y', 't', 'p']\n",
    "        labels: list of integer class labels\n",
    "    \"\"\"\n",
    "    class_names = sorted(os.listdir(root))  # ['class1', 'class2', ...]\n",
    "    label_map = {cls_name: i for i, cls_name in enumerate(class_names)}\n",
    "\n",
    "    events_list = []\n",
    "    labels = []\n",
    "\n",
    "    for cls in class_names:\n",
    "        folder = join(root, cls)\n",
    "        mat_files = glob(join(folder, \"*.mat\"))\n",
    "        for path in mat_files:\n",
    "            mat = loadmat(path)\n",
    "\n",
    "            # Expecting keys like mat['x'], mat['y'], mat['t'], mat['p']\n",
    "            # Adjust these keys if your .mat structure is different\n",
    "            try:\n",
    "                x = mat[\"x\"].squeeze()\n",
    "                y = mat[\"y\"].squeeze()\n",
    "                t = mat[\"t\"].squeeze()\n",
    "                p = mat[\"p\"].squeeze()\n",
    "            except KeyError:\n",
    "                print(f\"[WARN] Skipped {path} (missing keys)\")\n",
    "                continue\n",
    "\n",
    "            events = {\n",
    "                \"x\": x.astype(int),\n",
    "                \"y\": y.astype(int),\n",
    "                \"t\": t.astype(int),\n",
    "                \"p\": p.astype(int)\n",
    "            }\n",
    "\n",
    "            events_list.append(events)\n",
    "            labels.append(label_map[cls])\n",
    "\n",
    "    print(f\"[LOG] Loaded SNKTH: {len(events_list)} samples across {len(class_names)} classes\")\n",
    "    return events_list, labels\n"
   ],
   "outputs": [],
   "execution_count": 1
  },
  {
   "metadata": {
    "ExecuteTime": {
     "end_time": "2025-07-26T01:54:44.397379Z",
     "start_time": "2025-07-26T01:54:44.379427Z"
    }
   },
   "cell_type": "code",
   "source": [
    "def ev_loader_snkth(root=\"data/SNKTH\", dataset=\"full\"):\n",
    "    events, labels = load_snkth(root)\n",
    "    print(\"LOG: Loaded SNKTH dataset\")\n",
    "    return events, labels\n"
   ],
   "id": "87c7791de6e7c735",
   "outputs": [],
   "execution_count": 2
  },
  {
   "metadata": {
    "ExecuteTime": {
     "end_time": "2025-07-26T02:07:23.427010Z",
     "start_time": "2025-07-26T02:05:18.541331Z"
    }
   },
   "cell_type": "code",
   "source": "events, l = ev_loader_snkth()",
   "id": "6a331a3128183bed",
   "outputs": [
    {
     "name": "stdout",
     "output_type": "stream",
     "text": [
      "[LOG] Loaded SNKTH: 9472 samples across 12 classes\n",
      "LOG: Loaded SNKTH dataset\n"
     ]
    }
   ],
   "execution_count": 3
  },
  {
   "metadata": {
    "ExecuteTime": {
     "end_time": "2025-07-26T02:10:21.212115Z",
     "start_time": "2025-07-26T02:10:21.197065Z"
    }
   },
   "cell_type": "code",
   "source": [
    "# print(events)\n",
    "print(events[0])\n",
    "# print(events[0][0])\n",
    "# print(events[0][0][0])"
   ],
   "id": "7ef382497eb50100",
   "outputs": [
    {
     "name": "stdout",
     "output_type": "stream",
     "text": [
      "{'x': array([ 69,  69,  72, ...,  89, 103,  91]), 'y': array([103, 101, 102, ...,  16,  41,  89]), 't': array([ 48424,  48899,  49147, ..., 999461, 999461, 999968]), 'p': array([0, 0, 1, ..., 0, 0, 1])}\n"
     ]
    }
   ],
   "execution_count": 6
  },
  {
   "metadata": {
    "ExecuteTime": {
     "end_time": "2025-07-28T06:44:14.574271Z",
     "start_time": "2025-07-28T06:44:14.542617Z"
    }
   },
   "cell_type": "code",
   "source": [
    "import os\n",
    "import numpy as np\n",
    "from scipy.io import loadmat\n",
    "\n",
    "import numpy as np\n",
    "from scipy.io import loadmat\n",
    "\n",
    "def read_snkth_mat_int(path):\n",
    "    mat_data = loadmat(path)\n",
    "\n",
    "    # Automatically find the relevant data key\n",
    "    data_key = next((k for k in mat_data.keys() if not k.startswith(\"__\")), None)\n",
    "    if data_key is None:\n",
    "        raise KeyError(f\"No usable data found in {path}\")\n",
    "\n",
    "    raw = mat_data[data_key]  # e.g., shape (N, 4) or structured array\n",
    "\n",
    "    # Check if it's packed event data (assumed 4 columns: t, _, ...), or already split\n",
    "    if raw.shape[1] == 4 and isinstance(raw, np.ndarray):\n",
    "        # Example: t, _, other1, other2\n",
    "        packed = raw[:, 1].astype(np.int32)  # assuming 2nd col is \"_\"\n",
    "\n",
    "        x = np.bitwise_and(packed, 16383).astype(np.int16)\n",
    "        y = np.right_shift(np.bitwise_and(packed, 268419072), 14).astype(np.int16)\n",
    "        p = np.right_shift(np.bitwise_and(packed, 268435456), 28).astype(np.int16)\n",
    "\n",
    "        dtype = [('t', 'i4'), ('x', 'i2'), ('y', 'i2'), ('p', 'i2')]\n",
    "        result = np.empty(len(packed), dtype=dtype)\n",
    "        result['t'] = raw[:, 0].astype(np.int32)\n",
    "        result['x'] = x\n",
    "        result['y'] = y\n",
    "        result['p'] = p\n",
    "        return result\n",
    "\n",
    "    elif {'x', 'y', 'p', 't'}.issubset(set(mat_data.keys())):\n",
    "        # already unpacked fields\n",
    "        x = mat_data['x'].squeeze().astype(np.int16)\n",
    "        y = mat_data['y'].squeeze().astype(np.int16)\n",
    "        p = mat_data['p'].squeeze().astype(np.int16)\n",
    "        t = mat_data['t'].squeeze().astype(np.int32)\n",
    "\n",
    "        dtype = [('t', 'i4'), ('x', 'i2'), ('y', 'i2'), ('p', 'i2')]\n",
    "        result = np.empty(len(t), dtype=dtype)\n",
    "        result['t'] = t\n",
    "        result['x'] = x\n",
    "        result['y'] = y\n",
    "        result['p'] = p\n",
    "        return result\n",
    "\n",
    "    else:\n",
    "        raise ValueError(\"Unknown structure of .mat file; expected packed or x/y/p/t fields\")\n",
    "\n",
    "\n",
    "class SNKTH():\n",
    "    def __init__(self, root, split=\"train\"):\n",
    "        \"\"\"\n",
    "        Initialize SNKTH dataset by collecting all .mat files and their labels.\n",
    "        Assumes `root/split/` contains subfolders for each class, similar to NCARS.\n",
    "        \"\"\"\n",
    "        self.files = []\n",
    "        # Replace [\"classA\", \"classB\", ...] with actual class folder names in SNKTH dataset:\n",
    "        class_folders = [\"jogging\", \"running\"]  # example class names\n",
    "        for label, sub in enumerate(class_folders):\n",
    "            folder = os.path.join(root,  sub)\n",
    "            for fname in os.listdir(folder):\n",
    "                if fname.lower().endswith(\".mat\"):\n",
    "                    filepath = os.path.join(folder, fname)\n",
    "                    self.files.append((filepath, label))\n",
    "\n",
    "    def __len__(self):\n",
    "        return len(self.files)\n",
    "\n",
    "    def __getitem__(self, idx):\n",
    "        path, label = self.files[idx]\n",
    "        data = read_snkth_mat_int(path)   # load the .mat file data (events or features)\n",
    "        return data, label\n"
   ],
   "id": "3e769a7f3a775b2a",
   "outputs": [],
   "execution_count": 2
  },
  {
   "metadata": {
    "ExecuteTime": {
     "end_time": "2025-07-28T06:44:47.747506Z",
     "start_time": "2025-07-28T06:44:17.454281Z"
    }
   },
   "cell_type": "code",
   "source": [
    "train_dataset = SNKTH(root=\"data/SNKTH\")\n",
    "X_train_list = []\n",
    "y_train_list = []\n",
    "for i in range(len(train_dataset)):\n",
    "    features, label = train_dataset[i]\n",
    "    X_train_list.append(features.flatten())  # flatten in case features are not 1D\n",
    "    y_train_list.append(label)\n"
   ],
   "id": "33fb0daef7b236ca",
   "outputs": [],
   "execution_count": 3
  },
  {
   "metadata": {
    "ExecuteTime": {
     "end_time": "2025-07-28T07:38:02.047613Z",
     "start_time": "2025-07-28T07:38:02.025814Z"
    }
   },
   "cell_type": "code",
   "source": [
    "e, l = train_dataset[1]\n",
    "print(e, l)\n",
    "\n",
    "print(\" number of samples = \", len(X_train_list))\n",
    "print(\" number of samples = \", len(X_train_list))\n",
    "\n",
    "print(len(train_dataset[4]))\n",
    "print(len(train_dataset[0]))\n",
    "print(len(train_dataset[0][0]))\n",
    "print(len(train_dataset[0][0][0]))\n",
    "print(train_dataset[-1][0][-1])\n",
    "print(train_dataset[0][0][1])\n",
    "print(train_dataset[0][0][-1])"
   ],
   "id": "46deb158becf678a",
   "outputs": [
    {
     "name": "stdout",
     "output_type": "stream",
     "text": [
      "[( 45117,  74, 75, 1) ( 45306,  75, 32, 1) ( 45418,  74, 76, 1) ...\n",
      " (998506, 157,  9, 1) (999461, 158, 19, 0) (999461, 159, 16, 1)] 0\n",
      " number of samples =  2147\n",
      " number of samples =  2147\n",
      "2\n",
      "2\n",
      "7970\n",
      "4\n",
      "(999952, 24, 9, 0)\n",
      "(292105, 159, 63, 0)\n",
      "(999877, 120, 26, 1)\n"
     ]
    }
   ],
   "execution_count": 13
  }
 ],
 "metadata": {
  "kernelspec": {
   "display_name": "Python 3",
   "language": "python",
   "name": "python3"
  },
  "language_info": {
   "codemirror_mode": {
    "name": "ipython",
    "version": 2
   },
   "file_extension": ".py",
   "mimetype": "text/x-python",
   "name": "python",
   "nbconvert_exporter": "python",
   "pygments_lexer": "ipython2",
   "version": "2.7.6"
  }
 },
 "nbformat": 4,
 "nbformat_minor": 5
}
