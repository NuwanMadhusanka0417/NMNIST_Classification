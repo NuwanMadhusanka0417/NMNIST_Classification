{
 "cells": [
  {
   "metadata": {},
   "cell_type": "markdown",
   "source": "### Number of events - 100",
   "id": "626bb94d344860d5"
  },
  {
   "cell_type": "code",
   "id": "initial_id",
   "metadata": {
    "collapsed": true,
    "ExecuteTime": {
     "end_time": "2025-07-09T04:06:11.184312Z",
     "start_time": "2025-07-09T03:59:45.736886Z"
    }
   },
   "source": [
    "from main import main\n",
    "\n",
    "main(normalized_feat=False, num_of_graph_events=100)"
   ],
   "outputs": [
    {
     "name": "stderr",
     "output_type": "stream",
     "text": [
      "C:\\Users\\22390013@students.ltu.edu.au\\.conda\\envs\\efvoxel\\lib\\site-packages\\tqdm\\auto.py:21: TqdmWarning: IProgress not found. Please update jupyter and ipywidgets. See https://ipywidgets.readthedocs.io/en/stable/user_install.html\n",
      "  from .autonotebook import tqdm as notebook_tqdm\n"
     ]
    },
    {
     "name": "stdout",
     "output_type": "stream",
     "text": [
      "LOG - loaded graph:  data/unnormalized_graph/R_mthd_graphs_test_s4_E_100.pt\n"
     ]
    },
    {
     "name": "stderr",
     "output_type": "stream",
     "text": [
      "C:\\Users\\22390013@students.ltu.edu.au\\OneDrive - LA TROBE UNIVERSITY\\Projects\\EventCamera\\classification\\src\\graphcnnVSA_Binding_FULL.py:44: UserWarning: torch.sparse.SparseTensor(indices, values, shape, *, device=) is deprecated.  Please use torch.sparse_coo_tensor(indices, values, shape, dtype=, device=). (Triggered internally at C:\\b\\abs_fakvb73nko\\croot\\pytorch-select_1730848725921\\work\\torch\\csrc\\utils\\tensor_new.cpp:623.)\n",
      "  Adj_block = torch.sparse.FloatTensor(edge_index, Adj_block_elem, torch.Size([num_nodes, num_nodes]))\n"
     ]
    },
    {
     "name": "stdout",
     "output_type": "stream",
     "text": [
      "Test accuracy: 82.90%\n",
      "\n",
      "Detailed classification report:\n",
      "              precision    recall  f1-score   support\n",
      "\n",
      "           0       0.89      0.88      0.89       206\n",
      "           1       0.93      0.94      0.93       225\n",
      "           2       0.82      0.81      0.82       220\n",
      "           3       0.83      0.84      0.84       187\n",
      "           4       0.76      0.76      0.76       196\n",
      "           5       0.80      0.77      0.79       171\n",
      "           6       0.90      0.94      0.92       201\n",
      "           7       0.81      0.86      0.83       212\n",
      "           8       0.77      0.71      0.74       206\n",
      "           9       0.74      0.74      0.74       176\n",
      "\n",
      "    accuracy                           0.83      2000\n",
      "   macro avg       0.83      0.83      0.83      2000\n",
      "weighted avg       0.83      0.83      0.83      2000\n",
      "\n"
     ]
    },
    {
     "name": "stderr",
     "output_type": "stream",
     "text": [
      "C:\\Users\\22390013@students.ltu.edu.au\\.conda\\envs\\efvoxel\\lib\\site-packages\\sklearn\\linear_model\\_sag.py:348: ConvergenceWarning: The max_iter was reached which means the coef_ did not converge\n",
      "  warnings.warn(\n"
     ]
    }
   ],
   "execution_count": 1
  },
  {
   "metadata": {},
   "cell_type": "markdown",
   "source": "### Number of events - 50",
   "id": "4b5e3142cb229e34"
  },
  {
   "metadata": {
    "ExecuteTime": {
     "end_time": "2025-07-06T01:32:56.105685Z",
     "start_time": "2025-07-06T00:59:03.455676Z"
    }
   },
   "cell_type": "code",
   "source": "main(normalized_feat=False, num_of_graph_events=50)",
   "id": "7f1220b9fb603106",
   "outputs": [
    {
     "name": "stdout",
     "output_type": "stream",
     "text": [
      "Test accuracy: 64.54%\n",
      "\n",
      "Detailed classification report:\n",
      "              precision    recall  f1-score   support\n",
      "\n",
      "           0       0.75      0.76      0.75      1349\n",
      "           1       0.86      0.91      0.88      1581\n",
      "           2       0.65      0.64      0.64      1400\n",
      "           3       0.61      0.63      0.62      1434\n",
      "           4       0.55      0.57      0.56      1328\n",
      "           5       0.52      0.47      0.50      1286\n",
      "           6       0.73      0.76      0.75      1407\n",
      "           7       0.69      0.71      0.70      1476\n",
      "           8       0.47      0.43      0.45      1391\n",
      "           9       0.54      0.53      0.53      1348\n",
      "\n",
      "    accuracy                           0.65     14000\n",
      "   macro avg       0.64      0.64      0.64     14000\n",
      "weighted avg       0.64      0.65      0.64     14000\n",
      "\n"
     ]
    }
   ],
   "execution_count": 3
  },
  {
   "metadata": {},
   "cell_type": "markdown",
   "source": "### Number of events - 10",
   "id": "1345663ae5fe37ce"
  },
  {
   "metadata": {
    "ExecuteTime": {
     "end_time": "2025-07-05T23:57:13.680626Z",
     "start_time": "2025-07-05T23:43:08.017190Z"
    }
   },
   "cell_type": "code",
   "source": [
    "from main import main\n",
    "main(normalized_feat=False, num_of_graph_events=10)"
   ],
   "id": "fc8961f9dbe09f20",
   "outputs": [
    {
     "name": "stderr",
     "output_type": "stream",
     "text": [
      "C:\\Users\\22390013@students.ltu.edu.au\\.conda\\envs\\efvoxel\\lib\\site-packages\\tqdm\\auto.py:21: TqdmWarning: IProgress not found. Please update jupyter and ipywidgets. See https://ipywidgets.readthedocs.io/en/stable/user_install.html\n",
      "  from .autonotebook import tqdm as notebook_tqdm\n",
      "C:\\Users\\22390013@students.ltu.edu.au\\OneDrive - LA TROBE UNIVERSITY\\Projects\\EventCamera\\classification\\src\\graphcnnVSA_Binding_FULL.py:44: UserWarning: torch.sparse.SparseTensor(indices, values, shape, *, device=) is deprecated.  Please use torch.sparse_coo_tensor(indices, values, shape, dtype=, device=). (Triggered internally at C:\\b\\abs_fakvb73nko\\croot\\pytorch-select_1730848725921\\work\\torch\\csrc\\utils\\tensor_new.cpp:623.)\n",
      "  Adj_block = torch.sparse.FloatTensor(edge_index, Adj_block_elem, torch.Size([num_nodes, num_nodes]))\n"
     ]
    },
    {
     "name": "stdout",
     "output_type": "stream",
     "text": [
      "Test accuracy: 37.51%\n",
      "\n",
      "Detailed classification report:\n",
      "              precision    recall  f1-score   support\n",
      "\n",
      "           0       0.49      0.56      0.52      1349\n",
      "           1       0.57      0.72      0.63      1581\n",
      "           2       0.34      0.31      0.32      1400\n",
      "           3       0.33      0.34      0.33      1434\n",
      "           4       0.28      0.25      0.26      1328\n",
      "           5       0.25      0.21      0.23      1286\n",
      "           6       0.40      0.43      0.41      1407\n",
      "           7       0.40      0.43      0.41      1476\n",
      "           8       0.25      0.19      0.21      1391\n",
      "           9       0.27      0.26      0.26      1348\n",
      "\n",
      "    accuracy                           0.38     14000\n",
      "   macro avg       0.36      0.37      0.36     14000\n",
      "weighted avg       0.36      0.38      0.37     14000\n",
      "\n"
     ]
    }
   ],
   "execution_count": 2
  },
  {
   "metadata": {},
   "cell_type": "markdown",
   "source": "### Number of events - All",
   "id": "e6a538426e47fd81"
  },
  {
   "metadata": {
    "ExecuteTime": {
     "start_time": "2025-07-08T02:34:48.126499Z"
    }
   },
   "cell_type": "code",
   "source": [
    "from main import main\n",
    "main(normalized_feat=False, num_of_graph_events=None)"
   ],
   "id": "26b7c82b3fa99e60",
   "outputs": [],
   "execution_count": null
  }
 ],
 "metadata": {
  "kernelspec": {
   "display_name": "Python 3",
   "language": "python",
   "name": "python3"
  },
  "language_info": {
   "codemirror_mode": {
    "name": "ipython",
    "version": 2
   },
   "file_extension": ".py",
   "mimetype": "text/x-python",
   "name": "python",
   "nbconvert_exporter": "python",
   "pygments_lexer": "ipython2",
   "version": "2.7.6"
  }
 },
 "nbformat": 4,
 "nbformat_minor": 5
}
