{
 "cells": [
  {
   "cell_type": "code",
   "execution_count": 1,
   "id": "a84028e78ca56df9",
   "metadata": {
    "jupyter": {
     "is_executing": true
    }
   },
   "outputs": [
    {
     "name": "stdout",
     "output_type": "stream",
     "text": [
      "c:\\Users\\22390013@students.ltu.edu.au\\OneDrive - LA TROBE UNIVERSITY\\Projects\\EventCamera\\classification\n"
     ]
    },
    {
     "ename": "FileNotFoundError",
     "evalue": "[Errno 2] No such file or directory: 'data/ASLDVS/ASL_DVS-20250718T000137Z-1-001/ASL_DVS/subject1/l.aedat'",
     "output_type": "error",
     "traceback": [
      "\u001B[1;31m---------------------------------------------------------------------------\u001B[0m",
      "\u001B[1;31mFileNotFoundError\u001B[0m                         Traceback (most recent call last)",
      "Cell \u001B[1;32mIn[1], line 9\u001B[0m\n\u001B[0;32m      6\u001B[0m file_path \u001B[38;5;241m=\u001B[39m \u001B[38;5;124m\"\u001B[39m\u001B[38;5;124mdata/ASLDVS/ASL_DVS-20250718T000137Z-1-001/ASL_DVS/subject1/l.aedat\u001B[39m\u001B[38;5;124m\"\u001B[39m\n\u001B[0;32m      8\u001B[0m \u001B[38;5;66;03m# 1) Read and skip the text header\u001B[39;00m\n\u001B[1;32m----> 9\u001B[0m \u001B[38;5;28;01mwith\u001B[39;00m \u001B[38;5;28;43mopen\u001B[39;49m\u001B[43m(\u001B[49m\u001B[43mfile_path\u001B[49m\u001B[43m,\u001B[49m\u001B[43m \u001B[49m\u001B[38;5;124;43m'\u001B[39;49m\u001B[38;5;124;43mrb\u001B[39;49m\u001B[38;5;124;43m'\u001B[39;49m\u001B[43m)\u001B[49m \u001B[38;5;28;01mas\u001B[39;00m f:\n\u001B[0;32m     10\u001B[0m     header \u001B[38;5;241m=\u001B[39m f\u001B[38;5;241m.\u001B[39mread(\u001B[38;5;241m1_000_000\u001B[39m)\u001B[38;5;241m.\u001B[39msplit(\u001B[38;5;124mb\u001B[39m\u001B[38;5;124m'\u001B[39m\u001B[38;5;130;01m\\r\u001B[39;00m\u001B[38;5;130;01m\\n\u001B[39;00m\u001B[38;5;124m'\u001B[39m)\n\u001B[0;32m     11\u001B[0m header_size \u001B[38;5;241m=\u001B[39m \u001B[38;5;28msum\u001B[39m((\u001B[38;5;28mlen\u001B[39m(line) \u001B[38;5;241m+\u001B[39m \u001B[38;5;241m2\u001B[39m) \u001B[38;5;28;01mfor\u001B[39;00m line \u001B[38;5;129;01min\u001B[39;00m header \u001B[38;5;28;01mif\u001B[39;00m line\u001B[38;5;241m.\u001B[39mstartswith(\u001B[38;5;124mb\u001B[39m\u001B[38;5;124m'\u001B[39m\u001B[38;5;124m#\u001B[39m\u001B[38;5;124m'\u001B[39m))\n",
      "File \u001B[1;32mc:\\Users\\22390013@students.ltu.edu.au\\.conda\\envs\\ae\\lib\\site-packages\\IPython\\core\\interactiveshell.py:286\u001B[0m, in \u001B[0;36m_modified_open\u001B[1;34m(file, *args, **kwargs)\u001B[0m\n\u001B[0;32m    279\u001B[0m \u001B[38;5;28;01mif\u001B[39;00m file \u001B[38;5;129;01min\u001B[39;00m {\u001B[38;5;241m0\u001B[39m, \u001B[38;5;241m1\u001B[39m, \u001B[38;5;241m2\u001B[39m}:\n\u001B[0;32m    280\u001B[0m     \u001B[38;5;28;01mraise\u001B[39;00m \u001B[38;5;167;01mValueError\u001B[39;00m(\n\u001B[0;32m    281\u001B[0m         \u001B[38;5;124mf\u001B[39m\u001B[38;5;124m\"\u001B[39m\u001B[38;5;124mIPython won\u001B[39m\u001B[38;5;124m'\u001B[39m\u001B[38;5;124mt let you open fd=\u001B[39m\u001B[38;5;132;01m{\u001B[39;00mfile\u001B[38;5;132;01m}\u001B[39;00m\u001B[38;5;124m by default \u001B[39m\u001B[38;5;124m\"\u001B[39m\n\u001B[0;32m    282\u001B[0m         \u001B[38;5;124m\"\u001B[39m\u001B[38;5;124mas it is likely to crash IPython. If you know what you are doing, \u001B[39m\u001B[38;5;124m\"\u001B[39m\n\u001B[0;32m    283\u001B[0m         \u001B[38;5;124m\"\u001B[39m\u001B[38;5;124myou can use builtins\u001B[39m\u001B[38;5;124m'\u001B[39m\u001B[38;5;124m open.\u001B[39m\u001B[38;5;124m\"\u001B[39m\n\u001B[0;32m    284\u001B[0m     )\n\u001B[1;32m--> 286\u001B[0m \u001B[38;5;28;01mreturn\u001B[39;00m io_open(file, \u001B[38;5;241m*\u001B[39margs, \u001B[38;5;241m*\u001B[39m\u001B[38;5;241m*\u001B[39mkwargs)\n",
      "\u001B[1;31mFileNotFoundError\u001B[0m: [Errno 2] No such file or directory: 'data/ASLDVS/ASL_DVS-20250718T000137Z-1-001/ASL_DVS/subject1/l.aedat'"
     ]
    }
   ],
   "source": [
    "import numpy as np\n",
    "import os\n",
    "\n",
    "print(os.getcwd())\n",
    "\n",
    "file_path = \"data/ASLDVS/ASL_DVS-20250718T000137Z-1-001/ASL_DVS/subject1/l.aedat\"\n",
    "\n",
    "# 1) Read and skip the text header\n",
    "with open(file_path, 'rb') as f:\n",
    "    header = f.read(1_000_000).split(b'\\r\\n')\n",
    "header_size = sum((len(line) + 2) for line in header if line.startswith(b'#'))\n",
    "\n",
    "# 2) Read only the first 5 events (10 uint32 values)\n",
    "raw = np.fromfile(file_path, dtype=np.uint32, offset=header_size, count=20)\n",
    "print(raw)\n",
    "events = raw.reshape(-1, 2)   # shape (5, 2): [address, timestamp]\n",
    "\n",
    "# 3) Decode each address → (x, y, polarity)\n",
    "addrs = events[:, 0]\n",
    "ts    = events[:, 1]\n",
    "xs    = (addrs & 0x7F).astype(int)\n",
    "ys    = ((addrs >> 7) & 0x7F).astype(int)\n",
    "ps    = ((addrs >> 15) & 0x1).astype(int)\n",
    "\n",
    "# 4) Display\n",
    "print(\"First 5 events (timestamp, x, y, polarity):\")\n",
    "for t, x, y, p in zip(ts, xs, ys, ps):\n",
    "    print(f\"{t:10d},  {x:2d},  {y:2d},  {p}\")"
   ]
  },
  {
   "cell_type": "code",
   "id": "c9d80847",
   "metadata": {
    "jupyter": {
     "is_executing": true
    }
   },
   "source": [
    "import tonic\n",
    "from tonic.datasets import ASLDVS\n",
    "from torch.utils.data import DataLoader\n",
    "\n",
    "# 1) Instantiate the dataset (it will download + extract into ./data/ASLDVS if needed)\n",
    "dataset = ASLDVS(save_to=\"./data/ASLDVS\")\n",
    "\n",
    "# 2) Number of samples\n",
    "print(\"Total samples:\", len(dataset))\n",
    "\n",
    "# 3) Number of classes and class names\n",
    "print(\"Number of classes:\", len(dataset.classes))\n",
    "print(\"Classes:\", dataset.classes)\n",
    "\n",
    "# 4) Peek at the first sample\n",
    "events, label = dataset[0]\n",
    "print(\"\\nFirst sample label index:\", label)\n",
    "print(\"First sample class name:\", dataset.classes[label])\n",
    "\n",
    "# 5) Event array structure\n",
    "print(\"\\nEvents array shape:\", events.shape)\n",
    "print(\"Event dtype fields:\", events.dtype.names)\n",
    "\n",
    "# 6) First five events (structured array)\n",
    "print(\"\\nFirst 5 events:\")\n",
    "print(events[:5])\n",
    "\n",
    "# 7) (Optional) using a DataLoader\n",
    "loader = DataLoader(dataset, batch_size=1, shuffle=True)\n",
    "events_b, label_b = next(iter(loader))\n",
    "print(\"\\nBatch sample — events tensor shape:\", events_b.shape, \"label:\", label_b)\n"
   ],
   "outputs": [],
   "execution_count": null
  }
 ],
 "metadata": {
  "kernelspec": {
   "display_name": "ae",
   "language": "python",
   "name": "python3"
  },
  "language_info": {
   "codemirror_mode": {
    "name": "ipython",
    "version": 3
   },
   "file_extension": ".py",
   "mimetype": "text/x-python",
   "name": "python",
   "nbconvert_exporter": "python",
   "pygments_lexer": "ipython3",
   "version": "3.9.21"
  }
 },
 "nbformat": 4,
 "nbformat_minor": 5
}
